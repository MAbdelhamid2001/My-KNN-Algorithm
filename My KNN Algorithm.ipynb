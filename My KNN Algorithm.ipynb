{
 "cells": [
  {
   "cell_type": "markdown",
   "metadata": {
    "id": "9b4hw4Mopv8r"
   },
   "source": [
    "<h1>Algorithm</h1>\n",
    "<h2>1- Load Data</h2>\n",
    "<h2>2- For each unkown point:</h2>\n",
    "\n",
    "1.   Calculate distance between <em>**unknown point**</em> and <em>known points</em>\n",
    "2.   Sort Distances in ascending order\n",
    "3. Select top *K* points\n",
    "4. Check majority of labels of the top *K* points\n",
    "5. Assign Label to the unknown point \n",
    "\n",
    "\n",
    "\n"
   ]
  },
  {
   "cell_type": "code",
   "execution_count": 15,
   "metadata": {
    "id": "QQ-y_T5PmtWs"
   },
   "outputs": [],
   "source": [
    "import numpy as np # for numerical operations\n",
    "import pandas as pd # for handling input data\n",
    "import math"
   ]
  },
  {
   "cell_type": "code",
   "execution_count": 2,
   "metadata": {
    "id": "BHxWBJc2uJUn",
    "scrolled": true
   },
   "outputs": [],
   "source": [
    "data = pd.read_csv('train.csv') # uses pandas library to open a .csv file\n",
    "test = pd.read_csv('test.csv')"
   ]
  },
  {
   "cell_type": "code",
   "execution_count": 3,
   "metadata": {
    "colab": {
     "base_uri": "https://localhost:8080/",
     "height": 195
    },
    "id": "Y4wWGnhPuyHX",
    "outputId": "9caf966b-6f9d-482d-e90b-2de8a4f47683"
   },
   "outputs": [
    {
     "data": {
      "text/html": [
       "<div>\n",
       "<style scoped>\n",
       "    .dataframe tbody tr th:only-of-type {\n",
       "        vertical-align: middle;\n",
       "    }\n",
       "\n",
       "    .dataframe tbody tr th {\n",
       "        vertical-align: top;\n",
       "    }\n",
       "\n",
       "    .dataframe thead th {\n",
       "        text-align: right;\n",
       "    }\n",
       "</style>\n",
       "<table border=\"1\" class=\"dataframe\">\n",
       "  <thead>\n",
       "    <tr style=\"text-align: right;\">\n",
       "      <th></th>\n",
       "      <th>Fruit Size</th>\n",
       "      <th>Fruit Color</th>\n",
       "      <th>Leaf Size</th>\n",
       "      <th>label</th>\n",
       "    </tr>\n",
       "  </thead>\n",
       "  <tbody>\n",
       "    <tr>\n",
       "      <th>0</th>\n",
       "      <td>60</td>\n",
       "      <td>16</td>\n",
       "      <td>20</td>\n",
       "      <td>0</td>\n",
       "    </tr>\n",
       "    <tr>\n",
       "      <th>1</th>\n",
       "      <td>36</td>\n",
       "      <td>34</td>\n",
       "      <td>15</td>\n",
       "      <td>0</td>\n",
       "    </tr>\n",
       "    <tr>\n",
       "      <th>2</th>\n",
       "      <td>94</td>\n",
       "      <td>33</td>\n",
       "      <td>15</td>\n",
       "      <td>0</td>\n",
       "    </tr>\n",
       "    <tr>\n",
       "      <th>3</th>\n",
       "      <td>36</td>\n",
       "      <td>67</td>\n",
       "      <td>72</td>\n",
       "      <td>1</td>\n",
       "    </tr>\n",
       "    <tr>\n",
       "      <th>4</th>\n",
       "      <td>99</td>\n",
       "      <td>61</td>\n",
       "      <td>3</td>\n",
       "      <td>0</td>\n",
       "    </tr>\n",
       "  </tbody>\n",
       "</table>\n",
       "</div>"
      ],
      "text/plain": [
       "   Fruit Size  Fruit Color  Leaf Size  label\n",
       "0          60           16         20      0\n",
       "1          36           34         15      0\n",
       "2          94           33         15      0\n",
       "3          36           67         72      1\n",
       "4          99           61          3      0"
      ]
     },
     "execution_count": 3,
     "metadata": {},
     "output_type": "execute_result"
    }
   ],
   "source": [
    "data.head() # displays the first 5 rows of data"
   ]
  },
  {
   "cell_type": "code",
   "execution_count": 16,
   "metadata": {},
   "outputs": [],
   "source": [
    "def distances_calculator(k):\n",
    "    dismat=[]\n",
    "    for j in tr:\n",
    "        val=np.sqrt(np.sum(np.square(j-k))) #Eclidean distance\n",
    "        dismat.append(val)\n",
    "    return dismat"
   ]
  },
  {
   "cell_type": "code",
   "execution_count": 17,
   "metadata": {},
   "outputs": [],
   "source": [
    "def pre_prediction(m):\n",
    "    ax={'distances':m} #making a data frame to enable sorting distances with its labels at the same time\n",
    "    a=pd.DataFrame(ax)\n",
    "    lab=data['label']\n",
    "    z=a.join(lab)\n",
    "    sortedz=z.sort_values(by=['distances'], ascending=True)#sorting ascendingly\n",
    "    lists=np.array(sortedz['label'])\n",
    "    return lists"
   ]
  },
  {
   "cell_type": "code",
   "execution_count": 21,
   "metadata": {},
   "outputs": [],
   "source": [
    "def make_prediction(n):\n",
    "    k=int(math.sqrt(x.shape[0]))\n",
    "    f=n[0:k]\n",
    "    num1=np.count_nonzero(f == 1) #make predisction by counting number of 1s and 0s to judge\n",
    "    num0=np.count_nonzero(f == 0)\n",
    "    if num1>=num0:\n",
    "        return 1\n",
    "    else :\n",
    "        return 0"
   ]
  },
  {
   "cell_type": "code",
   "execution_count": 22,
   "metadata": {},
   "outputs": [],
   "source": [
    "#main\n",
    "x=data.drop(['label'],axis=1)\n",
    "tr=np.array(x)\n",
    "t=np.array(test)\n",
    "predicted=[]\n",
    "for i in t:\n",
    "    dist=distances_calculator(i)\n",
    "    preparation=pre_prediction(dist)\n",
    "    final=make_prediction(preparation)\n",
    "    predicted.append(final)"
   ]
  },
  {
   "cell_type": "code",
   "execution_count": 23,
   "metadata": {
    "scrolled": true
   },
   "outputs": [
    {
     "data": {
      "text/plain": [
       "[0,\n",
       " 0,\n",
       " 0,\n",
       " 1,\n",
       " 1,\n",
       " 1,\n",
       " 0,\n",
       " 0,\n",
       " 0,\n",
       " 0,\n",
       " 0,\n",
       " 0,\n",
       " 0,\n",
       " 0,\n",
       " 1,\n",
       " 0,\n",
       " 0,\n",
       " 1,\n",
       " 0,\n",
       " 1,\n",
       " 0,\n",
       " 0,\n",
       " 0,\n",
       " 1,\n",
       " 0,\n",
       " 0,\n",
       " 0,\n",
       " 1,\n",
       " 0,\n",
       " 0,\n",
       " 1,\n",
       " 0,\n",
       " 0,\n",
       " 1,\n",
       " 1,\n",
       " 0,\n",
       " 1,\n",
       " 0,\n",
       " 1,\n",
       " 1,\n",
       " 1,\n",
       " 1,\n",
       " 0,\n",
       " 1,\n",
       " 1,\n",
       " 0,\n",
       " 0,\n",
       " 1,\n",
       " 1,\n",
       " 0]"
      ]
     },
     "execution_count": 23,
     "metadata": {},
     "output_type": "execute_result"
    }
   ],
   "source": [
    "predicted"
   ]
  }
 ],
 "metadata": {
  "colab": {
   "name": "KNN_Template.ipynb",
   "provenance": [],
   "toc_visible": true
  },
  "kernelspec": {
   "display_name": "Python 3",
   "language": "python",
   "name": "python3"
  },
  "language_info": {
   "codemirror_mode": {
    "name": "ipython",
    "version": 3
   },
   "file_extension": ".py",
   "mimetype": "text/x-python",
   "name": "python",
   "nbconvert_exporter": "python",
   "pygments_lexer": "ipython3",
   "version": "3.8.8"
  }
 },
 "nbformat": 4,
 "nbformat_minor": 1
}
